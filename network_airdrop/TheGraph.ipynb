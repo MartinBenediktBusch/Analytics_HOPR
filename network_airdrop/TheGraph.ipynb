{
 "cells": [
  {
   "cell_type": "code",
   "execution_count": 10,
   "metadata": {},
   "outputs": [],
   "source": [
    "import requests\n",
    "from dotenv import load_dotenv\n",
    "import os"
   ]
  },
  {
   "cell_type": "code",
   "execution_count": 11,
   "metadata": {},
   "outputs": [
    {
     "name": "stdout",
     "output_type": "stream",
     "text": [
      "True\n"
     ]
    }
   ],
   "source": [
    "# Load environment variables\n",
    "load_dotenv('env_var.env')\n",
    "\n",
    "# Access environment variables\n",
    "subgraph_url = os.environ['SUBGRAPH_URL']\n",
    "api_host = os.environ['API_HOST']\n",
    "api_key = os.environ['API_KEY']\n",
    "\n",
    "if 'SUBGRAPH_URL' in os.environ and 'API_HOST' in os.environ and 'API_KEY' in os.environ:\n",
    "    print(True)\n",
    "else:\n",
    "    print(False)"
   ]
  },
  {
   "cell_type": "markdown",
   "metadata": {},
   "source": [
    "### Get subgraph data and topology data to establish the peer_id-node_address-safe_address link "
   ]
  },
  {
   "cell_type": "code",
   "execution_count": 12,
   "metadata": {},
   "outputs": [],
   "source": [
    "def get_subgraph_data():\n",
    "    \"\"\"\n",
    "    This function retrieves safe_address-node_address-balance links from the\n",
    "    specified subgraph using pagination.\n",
    "    \"\"\"\n",
    "    query = \"\"\"\n",
    "            query SafeNodeBalance($first: Int, $skip: Int) {\n",
    "                safes(first: $first, skip: $skip) {\n",
    "                    registeredNodesInNetworkRegistry {\n",
    "                    node {\n",
    "                        id\n",
    "                    }\n",
    "                    safe {\n",
    "                        id\n",
    "                        balance {\n",
    "                        wxHoprBalance\n",
    "                        }\n",
    "                    }\n",
    "                    }\n",
    "                }\n",
    "            }\n",
    "        \"\"\"\n",
    "\n",
    "    data = {\n",
    "        \"query\": query,\n",
    "        \"variables\": {\n",
    "            \"first\": 1000,\n",
    "            \"skip\": 0,\n",
    "        },\n",
    "    }\n",
    "    subgraph_dict = {}\n",
    "    more_content_available = True\n",
    "    pagination_skip_size = 1000\n",
    "\n",
    "    while more_content_available:\n",
    "        try:\n",
    "            response = requests.post(subgraph_url, json=data)\n",
    "\n",
    "            if response.status_code != 200:\n",
    "                print(f\"Received status code {response.status_code} when querying The Graph API\")\n",
    "                break\n",
    "\n",
    "            json_data = response.json()\n",
    "\n",
    "        except requests.exceptions.RequestException:\n",
    "            print(\"An error occurred while sending the request to subgraph endpoint\")\n",
    "            return {}\n",
    "        except ValueError:\n",
    "            print(\"An error occurred while parsing the response as JSON from subgraph endpoint\")\n",
    "            return {}\n",
    "        except Exception:\n",
    "            print(\"An unexpected error occurred\")\n",
    "            return {}\n",
    "\n",
    "        safes = json_data[\"data\"][\"safes\"]\n",
    "        for safe in safes:\n",
    "            for node in safe[\"registeredNodesInNetworkRegistry\"]:\n",
    "                node_address = node[\"node\"][\"id\"]\n",
    "                wxHoprBalance = node[\"safe\"][\"balance\"][\"wxHoprBalance\"]\n",
    "                safe_address = node[\"safe\"][\"id\"]\n",
    "                subgraph_dict[node_address] = {\n",
    "                    \"safe_address\": safe_address,\n",
    "                    \"wxHOPR_balance\": wxHoprBalance,\n",
    "                }\n",
    "\n",
    "        # Increment skip for the next iteration\n",
    "        data[\"variables\"][\"skip\"] += pagination_skip_size\n",
    "        more_content_available = len(safes) == pagination_skip_size\n",
    "\n",
    "    return subgraph_dict\n",
    "\n",
    "def get_unique_nodeAddress_peerId_aggbalance_links(api_host, api_key):\n",
    "    \"\"\"\n",
    "    Returns a dict containing all unique source_peerId-source_address links.\n",
    "    \"\"\"\n",
    "    channel_url = \"http://{}:3001/api/v3/channels/?includingClosed=false&fullTopology=true\".format(api_host)\n",
    "    headers = {'X-Auth-Token': api_key}\n",
    "    response = requests.request(\"GET\", channel_url, headers=headers)\n",
    "\n",
    "    if response.status_code != 200:\n",
    "        print(\"Could not fetch channel information. Status code: {}\".format(response.status_code))\n",
    "        return {}\n",
    "\n",
    "    response = response.json()\n",
    "\n",
    "    if 'all' not in response:\n",
    "            print(\"Response does not contain `all`\")\n",
    "            return {}\n",
    "\n",
    "    peerid_address_aggbalance_links = {}\n",
    "    for item in response[\"all\"]:\n",
    "        if \"sourcePeerId\" not in item or \"sourceAddress\" not in item:\n",
    "            print(\"Response does not contain `source_peerid` or `source_address`\")\n",
    "            continue\n",
    "\n",
    "        if \"status\" not in item:\n",
    "            print(\"Response does not contain `status`\")\n",
    "            continue\n",
    "\n",
    "        source_peer_id = item[\"sourcePeerId\"]\n",
    "        source_address = item[\"sourceAddress\"]\n",
    "        balance = int(item[\"balance\"]) / 1e18\n",
    "\n",
    "        if item[\"status\"] != \"Open\":\n",
    "            # Other Statuses: \"Waiting for commitment\", \"Closed\", \"Pending to close\"\n",
    "            # Ensures that nodes must have at least 1 open channel in to receive ct\n",
    "            continue\n",
    "\n",
    "        if source_peer_id not in peerid_address_aggbalance_links:\n",
    "            peerid_address_aggbalance_links[source_peer_id] = {\n",
    "                \"source_node_address\": source_address,\n",
    "                \"channels_balance\": balance,\n",
    "            }\n",
    "\n",
    "        else:\n",
    "            peerid_address_aggbalance_links[source_peer_id][\n",
    "                \"channels_balance\"\n",
    "            ] += balance\n",
    "\n",
    "    return peerid_address_aggbalance_links"
   ]
  },
  {
   "cell_type": "code",
   "execution_count": 13,
   "metadata": {},
   "outputs": [
    {
     "name": "stdout",
     "output_type": "stream",
     "text": [
      "482\n",
      "0xcdd7117148b6f2975815dd39d99bb9ed4553842b: {'safe_address': '0x00133125ccdf4ea1231a47e073c616f358b2d5a8', 'wxHOPR_balance': '24661.290193148447062483'}\n",
      "0x2168fcd793a3967fa4bdd66f534c4fc811124439: {'safe_address': '0x01f1d2f347ea987b5cf3ed383146feda5265f38a', 'wxHOPR_balance': '47550.845017918780883268'}\n",
      "0x9261303fe593ca3ced719213a9adfcd13162c9cf: {'safe_address': '0x039e399bf0409e06e0d4dabe6b8589d8f97c0c86', 'wxHOPR_balance': '10067.53691811'}\n",
      "0xed04f9fbf9160793fff7532df3860c70862bff4e: {'safe_address': '0x0420bd44fe87a855a11c9fd42b3f42203b03dec9', 'wxHOPR_balance': '29194.007447077394399044'}\n",
      "0xfcc30ccecf890362d66194659f4850acbe84b08b: {'safe_address': '0x042ddd9d9b99ed1a08eb5c5a3feae5e7a1732e82', 'wxHOPR_balance': '35959.12878996'}\n",
      "0x5f2b29d02fc77d50b3de83b507409cdd81290075: {'safe_address': '0x049f8118b5435fd9cda5c393767771adfe5e137c', 'wxHOPR_balance': '72184.3593888'}\n",
      "0xf3e7672a909fd8c113fc5c53dda1f38f79d7a184: {'safe_address': '0x04b21235a04d7468bdd79de8a68341b7be0a71fa', 'wxHOPR_balance': '61446.955112087571348229'}\n",
      "0x06e7df53f76d5a0d3114e1ab6332a66b4e36cd86: {'safe_address': '0x04d516f717ac1e45af3cd9694c37be10470cfb28', 'wxHOPR_balance': '0'}\n",
      "0xa996eb759d44c8e2ea2de764ae031231678fe8b0: {'safe_address': '0x04f0e66eba222fa37dd9942ec1b4d6b793b1b676', 'wxHOPR_balance': '72068.10632806'}\n",
      "0x5adb3ae9e9b6a218ce7a2cfa5109299ead462868: {'safe_address': '0x053d17121d6152054f834e847a047f6a86b094ae', 'wxHOPR_balance': '72186.6595804'}\n"
     ]
    }
   ],
   "source": [
    "subgraph_data = get_subgraph_data()\n",
    "print(len(subgraph_data))\n",
    "\n",
    "print_size = 10\n",
    "\n",
    "for key, value in list(subgraph_data.items())[:print_size]:\n",
    "    print(f\"{key}: {value}\")\n"
   ]
  },
  {
   "cell_type": "markdown",
   "metadata": {},
   "source": [
    "### Get Network Topology Data "
   ]
  },
  {
   "cell_type": "code",
   "execution_count": 14,
   "metadata": {},
   "outputs": [
    {
     "name": "stdout",
     "output_type": "stream",
     "text": [
      "335\n",
      "12D3KooWAAZ3WnaWMuSQnQSFYnwx7g6W725DYmDY1QASZK1nni5B: {'source_node_address': '0xfa73af5609d354acd0f6e51f77c04d228c370813', 'channels_balance': 460.0}\n",
      "12D3KooWC7Tub3aRmxUM7XjiozW5paXcySN9gWDDvJwNh98DTdUD: {'source_node_address': '0x07a52c8338edef4b6d3a180c1b75815469ff3a46', 'channels_balance': 2000.7}\n",
      "12D3KooWKn3bLWMymSMznYt3YRrK8cwmYytEzwM1HoDgqkLcmeSu: {'source_node_address': '0x8de95cdc3291152381f24226422ed9c08beec146', 'channels_balance': 3142.2}\n",
      "12D3KooWNJyWUuu9M9RNU8zTMyqCA8K1GqJwv8tjHsc2oYsJJajD: {'source_node_address': '0x9925b9846e6e289e1c7f8a0554bf6900757491ec', 'channels_balance': 195.0}\n",
      "12D3KooWH9rfYNKMkNncYJxS7BH41ThPZUYe3FNkbfmJAa4n5r3x: {'source_node_address': '0x5a5bf3d3ce59cd304f198b86c1a78adfadf31f83', 'channels_balance': 23498.2}\n"
     ]
    }
   ],
   "source": [
    "topology_data = get_unique_nodeAddress_peerId_aggbalance_links(api_host, api_key)\n",
    "\n",
    "print(len(topology_data))\n",
    "\n",
    "print_size = 5\n",
    "\n",
    "for key, value in list(topology_data.items())[:print_size]:\n",
    "    print(f\"{key}: {value}\")"
   ]
  },
  {
   "cell_type": "code",
   "execution_count": 15,
   "metadata": {},
   "outputs": [],
   "source": [
    "def merge_topology_subgraph(topology_dict: dict, subgraph_dict: dict):\n",
    "    \"\"\"\n",
    "    Merge metrics and subgraph data with the unique peer IDs, addresses,\n",
    "    balance links.\n",
    "    :param: topology_dict: A dict mapping peer IDs to node addresses.\n",
    "    :param: subgraph_dict: A dict containing subgraph data with safe address as the key.\n",
    "    :returns: A dict with peer ID as the key and the merged information.\n",
    "    \"\"\"\n",
    "    merged_result = {}\n",
    "\n",
    "    # Merge based on peer ID with the channel topology as the baseline\n",
    "    for peer_id, data in topology_dict.items():\n",
    "        seen_in_subgraph = False\n",
    "\n",
    "        source_node_address = data[\"source_node_address\"]\n",
    "        if source_node_address in subgraph_dict:\n",
    "            subgraph_data = subgraph_dict[source_node_address]\n",
    "            data[\"safe_address\"] = subgraph_data[\"safe_address\"]\n",
    "            data[\"safe_balance\"] = float(subgraph_data[\"wxHOPR_balance\"])\n",
    "            data[\"total_balance\"] = data[\"channels_balance\"] + data[\"safe_balance\"]\n",
    "\n",
    "            seen_in_subgraph = True\n",
    "            # print(f\"Source node address for {peer_id} found in subgraph\")\n",
    "\n",
    "        if seen_in_subgraph:\n",
    "            merged_result[peer_id] = data\n",
    "\n",
    "    return merged_result"
   ]
  },
  {
   "cell_type": "code",
   "execution_count": 16,
   "metadata": {},
   "outputs": [
    {
     "name": "stdout",
     "output_type": "stream",
     "text": [
      "335\n",
      "12D3KooWAAZ3WnaWMuSQnQSFYnwx7g6W725DYmDY1QASZK1nni5B: {'source_node_address': '0xfa73af5609d354acd0f6e51f77c04d228c370813', 'channels_balance': 460.0, 'safe_address': '0x8832376a388cfcb58dab0cce249f65b86041e4bc', 'safe_balance': 9783.58729573485, 'total_balance': 10243.58729573485}\n",
      "12D3KooWC7Tub3aRmxUM7XjiozW5paXcySN9gWDDvJwNh98DTdUD: {'source_node_address': '0x07a52c8338edef4b6d3a180c1b75815469ff3a46', 'channels_balance': 2000.7, 'safe_address': '0x84600a20ea20d4cc139e0483650320d8d26c03d1', 'safe_balance': 14840.8513217, 'total_balance': 16841.5513217}\n",
      "12D3KooWKn3bLWMymSMznYt3YRrK8cwmYytEzwM1HoDgqkLcmeSu: {'source_node_address': '0x8de95cdc3291152381f24226422ed9c08beec146', 'channels_balance': 3142.2, 'safe_address': '0x4d219619fa660c02236c89e5de46843bdeb41233', 'safe_balance': 87231.5095978, 'total_balance': 90373.7095978}\n",
      "12D3KooWNJyWUuu9M9RNU8zTMyqCA8K1GqJwv8tjHsc2oYsJJajD: {'source_node_address': '0x9925b9846e6e289e1c7f8a0554bf6900757491ec', 'channels_balance': 195.0, 'safe_address': '0x5ce3ca7ae22be88a960e0847845d9e13e8b5f23d', 'safe_balance': 76504.287861, 'total_balance': 76699.287861}\n",
      "12D3KooWH9rfYNKMkNncYJxS7BH41ThPZUYe3FNkbfmJAa4n5r3x: {'source_node_address': '0x5a5bf3d3ce59cd304f198b86c1a78adfadf31f83', 'channels_balance': 23498.2, 'safe_address': '0xdf9be8bdb5ae4a130e861e5158c95667e7b2c0cb', 'safe_balance': 14390.2, 'total_balance': 37888.4}\n"
     ]
    }
   ],
   "source": [
    "merged_data = merge_topology_subgraph(topology_data, subgraph_data)\n",
    "print(len(merged_data))\n",
    "\n",
    "print_size = 5\n",
    "\n",
    "for key, value in list(merged_data.items())[:print_size]:\n",
    "    print(f\"{key}: {value}\")"
   ]
  },
  {
   "cell_type": "code",
   "execution_count": 31,
   "metadata": {},
   "outputs": [
    {
     "name": "stdout",
     "output_type": "stream",
     "text": [
      "37888.4\n"
     ]
    }
   ],
   "source": [
    "# Netwatcher 1\n",
    "node_1_funds = merged_data[\"12D3KooWH9rfYNKMkNncYJxS7BH41ThPZUYe3FNkbfmJAa4n5r3x\"]['total_balance']\n",
    "print(node_1_funds)"
   ]
  },
  {
   "cell_type": "code",
   "execution_count": 30,
   "metadata": {},
   "outputs": [
    {
     "name": "stdout",
     "output_type": "stream",
     "text": [
      "39032.099999999984\n"
     ]
    }
   ],
   "source": [
    "# Netwatcher 2\n",
    "node_2_funds = merged_data[\"12D3KooWGyY39vD8J2VGEDjTCD3eEyvV4YrnKM9NCQa6SYJKczrR\"]['total_balance']\n",
    "print(node_2_funds)"
   ]
  },
  {
   "cell_type": "code",
   "execution_count": 28,
   "metadata": {},
   "outputs": [
    {
     "name": "stdout",
     "output_type": "stream",
     "text": [
      "37811.799999999996\n"
     ]
    }
   ],
   "source": [
    "# Netwatcher 3\n",
    "node_3_funds = merged_data[\"12D3KooWL16nW1Z2dLvyZWzr9ZZwoLTeuSfaKSeX2BjucHwSoEwJ\"]['total_balance']\n",
    "print(node_3_funds)"
   ]
  },
  {
   "cell_type": "code",
   "execution_count": 29,
   "metadata": {},
   "outputs": [
    {
     "name": "stdout",
     "output_type": "stream",
     "text": [
      "38330.399999999994\n"
     ]
    }
   ],
   "source": [
    "# Netwatcher 4\n",
    "node_4_funds = merged_data[\"12D3KooWNYi2kG5cdeEUBvjemZRUkPVmAeXsSGVrX9QHnEiMfh8w\"]['total_balance']\n",
    "print(node_4_funds)"
   ]
  },
  {
   "cell_type": "code",
   "execution_count": 32,
   "metadata": {},
   "outputs": [
    {
     "name": "stdout",
     "output_type": "stream",
     "text": [
      "46937.30000000002\n"
     ]
    }
   ],
   "source": [
    "ct_funding_received = 200000\n",
    "funds_in_ct_app = node_1_funds + node_2_funds + node_3_funds + node_4_funds\n",
    "distributed_rewards = ct_funding_received - funds_in_ct_app\n",
    "print(distributed_rewards)"
   ]
  },
  {
   "cell_type": "code",
   "execution_count": 34,
   "metadata": {},
   "outputs": [
    {
     "name": "stdout",
     "output_type": "stream",
     "text": [
      "171937.30000000002\n"
     ]
    }
   ],
   "source": [
    "airdropped = 5*25000\n",
    "total_rewards = airdropped + distributed_rewards\n",
    "print(total_rewards)"
   ]
  }
 ],
 "metadata": {
  "kernelspec": {
   "display_name": "analytics",
   "language": "python",
   "name": "python3"
  },
  "language_info": {
   "codemirror_mode": {
    "name": "ipython",
    "version": 3
   },
   "file_extension": ".py",
   "mimetype": "text/x-python",
   "name": "python",
   "nbconvert_exporter": "python",
   "pygments_lexer": "ipython3",
   "version": "3.9.10"
  },
  "orig_nbformat": 4
 },
 "nbformat": 4,
 "nbformat_minor": 2
}
