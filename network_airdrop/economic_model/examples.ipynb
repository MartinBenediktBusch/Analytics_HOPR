{
 "cells": [
  {
   "cell_type": "markdown",
   "metadata": {},
   "source": [
    "### Model Parameters"
   ]
  },
  {
   "cell_type": "code",
   "execution_count": 24,
   "metadata": {},
   "outputs": [],
   "source": [
    "#  slope coefficient of linear equation f(x)\n",
    "a = 1\n",
    "\n",
    "# denominator of the exponent of nonlinear function g(x)\n",
    "b = 1.4 \n",
    "\n",
    "# threshold value defining the cutoff for when f(x) ends and g(x) starts\n",
    "c = 75000\n",
    "\n",
    "# lower limit of linear function (i.e. minimum required stake)\n",
    "l = 10000\n",
    "\n",
    "# budget for the given distribution period\n",
    "budget = 10000\n",
    "\n",
    "# Price of a ticket issued for relaying a packet\n",
    "ticket_price = 1\n",
    "\n",
    "# Winning Probability \n",
    "win_prob = 1\n",
    "\n",
    "# budget period in month \n",
    "budget_period = 1"
   ]
  },
  {
   "cell_type": "markdown",
   "metadata": {},
   "source": [
    "### Model"
   ]
  },
  {
   "cell_type": "code",
   "execution_count": 77,
   "metadata": {},
   "outputs": [],
   "source": [
    "# Stake transformation \n",
    "def stake_transformation(balances: list, a, b, c):\n",
    "    transformed_stakes = []\n",
    "\n",
    "    for x in balances:\n",
    "        if x < 10000:\n",
    "            transformed_stakes.append(1e-20)\n",
    "        elif x <= c:\n",
    "            f_x = a * x\n",
    "            transformed_stakes.append(f_x)\n",
    "        else:\n",
    "            g_x = a * c  + (x - c) ** (1 / b)\n",
    "            transformed_stakes.append(g_x)\n",
    "\n",
    "    return transformed_stakes\n",
    "\n",
    "# Cover traffic probability \n",
    "def compute_probabilities(balances: list):\n",
    "    ct_prob = []\n",
    "    sum_balances = sum(balances)\n",
    "    \n",
    "    for x in balances:\n",
    "        prob = x/sum_balances\n",
    "        ct_prob.append(prob)\n",
    "\n",
    "    return ct_prob\n",
    "\n",
    "# Expected rewards \n",
    "def expected_reward(ct_prob: list, budget: int):\n",
    "    expected_reward = []\n",
    "\n",
    "    for x in ct_prob:\n",
    "        reward = x * budget\n",
    "        expected_reward.append(reward)\n",
    "    \n",
    "    return expected_reward\n",
    "\n",
    "# Expected number of tickets \n",
    "def expected_tickets(expected_reward: list, ticket_price: int, win_prob: int):\n",
    "    expected_tickets = []\n",
    "\n",
    "    for x in expected_reward:\n",
    "        tickets = round(x/(ticket_price*win_prob))\n",
    "        expected_tickets.append(tickets)\n",
    "\n",
    "    return expected_tickets\n",
    "\n",
    "# APY \n",
    "def apy_calculation(expected_reward: list, balance: list, budget_period: int):\n",
    "    apy_pct = []\n",
    "\n",
    "    for x in range(len(expected_reward)):\n",
    "        reward = expected_reward[x]\n",
    "        stake = balance[x]\n",
    "\n",
    "        apy = (reward * (12 / budget_period))/stake * 100\n",
    "        apy_pct.append(apy)\n",
    "    \n",
    "    return apy_pct "
   ]
  },
  {
   "cell_type": "markdown",
   "metadata": {},
   "source": [
    "### Example 1"
   ]
  },
  {
   "cell_type": "code",
   "execution_count": 87,
   "metadata": {},
   "outputs": [
    {
     "name": "stdout",
     "output_type": "stream",
     "text": [
      "[10000, 30000, 50000, 50000, 75000]\n",
      "[4.65, 13.95, 23.26, 23.26, 34.88]\n",
      "[465.12, 1395.35, 2325.58, 2325.58, 3488.37]\n",
      "[465, 1395, 2326, 2326, 3488]\n",
      "[55.81, 55.81, 55.81, 55.81, 55.81]\n"
     ]
    }
   ],
   "source": [
    "example_1_balances = [10000, 30000, 50000, 50000, 75000] # Baseline \n",
    "\n",
    "example_1_stake_transformation = stake_transformation(example_1_balances, a, b, c)\n",
    "example_1_ct_prob = compute_probabilities(example_1_stake_transformation)\n",
    "example_1_expected_reward = expected_reward(example_1_ct_prob, budget)\n",
    "example_1_expected_tickets = expected_tickets(example_1_expected_reward, ticket_price, win_prob)\n",
    "example_1_apy_calculation = apy_calculation(example_1_expected_reward, example_1_balances, budget_period)\n",
    "\n",
    "print([round(value, 2) for value in example_1_stake_transformation])\n",
    "print([round(value*100, 2) for value in example_1_ct_prob])\n",
    "print([round(value, 2) for value in example_1_expected_reward])\n",
    "print([round(value, 2) for value in example_1_expected_tickets])\n",
    "print([round(value, 2) for value in example_1_apy_calculation])\n"
   ]
  },
  {
   "cell_type": "markdown",
   "metadata": {},
   "source": [
    "### Example 2"
   ]
  },
  {
   "cell_type": "code",
   "execution_count": 86,
   "metadata": {},
   "outputs": [
    {
     "name": "stdout",
     "output_type": "stream",
     "text": [
      "[10000, 30000, 50000, 50000, 76384.8]\n",
      "[4.62, 13.86, 23.11, 23.11, 35.3]\n",
      "[462.14, 1386.42, 2310.7, 2310.7, 3530.04]\n",
      "[462, 1386, 2311, 2311, 3530]\n",
      "[55.46, 55.46, 55.46, 55.46, 42.36]\n"
     ]
    }
   ],
   "source": [
    "example_2_balances = [10000, 30000, 50000, 50000, 100000] # Node D raises its stake to 100k \n",
    "\n",
    "example_2_stake_transformation = stake_transformation(example_2_balances, a, b, c)\n",
    "example_2_ct_prob = compute_probabilities(example_2_stake_transformation)\n",
    "example_2_expected_reward = expected_reward(example_2_ct_prob, budget)\n",
    "example_2_expected_tickets = expected_tickets(example_2_expected_reward, ticket_price, win_prob)\n",
    "example_2_apy_calculation = apy_calculation(example_2_expected_reward, example_2_balances, budget_period)\n",
    "\n",
    "print([round(value, 2) for value in example_2_stake_transformation])\n",
    "print([round(value*100, 2) for value in example_2_ct_prob])\n",
    "print([round(value, 2) for value in example_2_expected_reward])\n",
    "print([round(value, 2) for value in example_2_expected_tickets])\n",
    "print([round(value, 2) for value in example_2_apy_calculation])\n"
   ]
  },
  {
   "cell_type": "markdown",
   "metadata": {},
   "source": [
    "### Example 3"
   ]
  },
  {
   "cell_type": "code",
   "execution_count": 88,
   "metadata": {},
   "outputs": [
    {
     "name": "stdout",
     "output_type": "stream",
     "text": [
      "[10000, 30000, 50000, 50000, 75000, 25000]\n",
      "[4.17, 12.5, 20.83, 20.83, 31.25, 10.42]\n",
      "[416.67, 1250.0, 2083.33, 2083.33, 3125.0, 1041.67]\n",
      "[417, 1250, 2083, 2083, 3125, 1042]\n",
      "[50.0, 50.0, 50.0, 50.0, 50.0, 50.0]\n"
     ]
    }
   ],
   "source": [
    "example_3_balances = [10000, 30000, 50000, 50000, 75000, 25000] # Node D spins up another node instead of staking everyting into 1 node\n",
    "\n",
    "example_3_stake_transformation = stake_transformation(example_3_balances, a, b, c)\n",
    "example_3_ct_prob = compute_probabilities(example_3_stake_transformation)\n",
    "example_3_expected_reward = expected_reward(example_3_ct_prob, budget)\n",
    "example_3_expected_tickets = expected_tickets(example_3_expected_reward, ticket_price, win_prob)\n",
    "example_3_apy_calculation = apy_calculation(example_3_expected_reward, example_3_balances, budget_period)\n",
    "\n",
    "print([round(value, 2) for value in example_3_stake_transformation])\n",
    "print([round(value*100, 2) for value in example_3_ct_prob])\n",
    "print([round(value, 2) for value in example_3_expected_reward])\n",
    "print([round(value, 2) for value in example_3_expected_tickets])\n",
    "print([round(value, 2) for value in example_3_apy_calculation])"
   ]
  },
  {
   "cell_type": "markdown",
   "metadata": {},
   "source": [
    "### Example 4 "
   ]
  },
  {
   "cell_type": "code",
   "execution_count": 89,
   "metadata": {},
   "outputs": [
    {
     "name": "stdout",
     "output_type": "stream",
     "text": [
      "[10000, 30000, 50000, 50000, 75000, 25000, 174463.71]\n",
      "[2.41, 7.24, 12.06, 12.06, 18.1, 6.03, 42.09]\n",
      "[241.28, 723.83, 1206.38, 1206.38, 1809.57, 603.19, 4209.38]\n",
      "[241, 724, 1206, 1206, 1810, 603, 4209]\n",
      "[28.95, 28.95, 28.95, 28.95, 28.95, 28.95, 0.51]\n"
     ]
    }
   ],
   "source": [
    "example_4_balances = [10000, 30000, 50000, 50000, 75000, 25000, 10000000] # A whale enters \n",
    "\n",
    "example_4_stake_transformation = stake_transformation(example_4_balances, a, b, c)\n",
    "example_4_ct_prob = compute_probabilities(example_4_stake_transformation)\n",
    "example_4_expected_reward = expected_reward(example_4_ct_prob, budget)\n",
    "example_4_expected_tickets = expected_tickets(example_4_expected_reward, ticket_price, win_prob)\n",
    "example_4_apy_calculation = apy_calculation(example_4_expected_reward, example_4_balances, budget_period)\n",
    "\n",
    "print([round(value, 2) for value in example_4_stake_transformation])\n",
    "print([round(value*100, 2) for value in example_4_ct_prob])\n",
    "print([round(value, 2) for value in example_4_expected_reward])\n",
    "print([round(value, 2) for value in example_4_expected_tickets])\n",
    "print([round(value, 2) for value in example_4_apy_calculation])"
   ]
  },
  {
   "cell_type": "markdown",
   "metadata": {},
   "source": [
    "### Example 5 "
   ]
  },
  {
   "cell_type": "code",
   "execution_count": 90,
   "metadata": {},
   "outputs": [
    {
     "name": "stdout",
     "output_type": "stream",
     "text": [
      "[10000, 30000, 50000, 50000, 75000, 25000, 2369373.43]\n",
      "[0.38, 1.15, 1.92, 1.92, 2.87, 0.96, 90.8]\n",
      "[38.32, 114.97, 191.62, 191.62, 287.43, 95.81, 9080.24]\n",
      "[38, 115, 192, 192, 287, 96, 9080]\n",
      "[4.6, 4.6, 4.6, 4.6, 4.6, 4.6, 1.09]\n"
     ]
    }
   ],
   "source": [
    "example_5_balances = [10000, 30000, 50000, 50000, 75000, 25000, 10000000] # reducing the penalty b \n",
    "\n",
    "example_5_stake_transformation = stake_transformation(example_4_balances, a, 1.1, c)\n",
    "example_5_ct_prob = compute_probabilities(example_5_stake_transformation)\n",
    "example_5_expected_reward = expected_reward(example_5_ct_prob, budget)\n",
    "example_5_expected_tickets = expected_tickets(example_5_expected_reward, ticket_price, win_prob)\n",
    "example_5_apy_calculation = apy_calculation(example_5_expected_reward, example_5_balances, budget_period)\n",
    "\n",
    "print([round(value, 2) for value in example_5_stake_transformation])\n",
    "print([round(value*100, 2) for value in example_5_ct_prob])\n",
    "print([round(value, 2) for value in example_5_expected_reward])\n",
    "print([round(value, 2) for value in example_5_expected_tickets])\n",
    "print([round(value, 2) for value in example_5_apy_calculation])"
   ]
  }
 ],
 "metadata": {
  "kernelspec": {
   "display_name": "analytics",
   "language": "python",
   "name": "python3"
  },
  "language_info": {
   "codemirror_mode": {
    "name": "ipython",
    "version": 3
   },
   "file_extension": ".py",
   "mimetype": "text/x-python",
   "name": "python",
   "nbconvert_exporter": "python",
   "pygments_lexer": "ipython3",
   "version": "3.9.10"
  },
  "orig_nbformat": 4
 },
 "nbformat": 4,
 "nbformat_minor": 2
}
