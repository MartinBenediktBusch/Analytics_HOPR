{
 "cells": [
  {
   "cell_type": "code",
   "execution_count": 1,
   "metadata": {},
   "outputs": [],
   "source": [
    "# 22_09_15:45 \n",
    "import requests \n",
    "from dotenv import load_dotenv\n",
    "import os  \n",
    "import pandas as pd "
   ]
  },
  {
   "cell_type": "code",
   "execution_count": 2,
   "metadata": {},
   "outputs": [
    {
     "name": "stdout",
     "output_type": "stream",
     "text": [
      "True\n"
     ]
    }
   ],
   "source": [
    "# Load environment variables \n",
    "load_dotenv('env_var.env')\n",
    "\n",
    "# Access environment variables \n",
    "subgraph_url = os.environ['SUBGRAPH_URL']\n",
    "api_host = os.environ['API_HOST']\n",
    "api_key = os.environ['API_KEY']\n",
    "\n",
    "if 'SUBGRAPH_URL' in os.environ and 'API_HOST' in os.environ and 'API_KEY' in os.environ:\n",
    "    print(True)\n",
    "else:\n",
    "    print(False)"
   ]
  },
  {
   "cell_type": "markdown",
   "metadata": {},
   "source": [
    "### Get subgraph data and topology data to establish the peer_id-node_address-safe_address link "
   ]
  },
  {
   "cell_type": "code",
   "execution_count": 3,
   "metadata": {},
   "outputs": [],
   "source": [
    "def get_subgraph_data():\n",
    "    \"\"\"\n",
    "    This function retrieves safe_address-node_address-balance links from the\n",
    "    specified subgraph using pagination.\n",
    "    \"\"\"\n",
    "\n",
    "    query = \"\"\"\n",
    "            query SafeNodeBalance($first: Int, $skip: Int) {\n",
    "                safes(first: $first, skip: $skip) {\n",
    "                    registeredNodesInNetworkRegistry {\n",
    "                    node {\n",
    "                        id\n",
    "                    }\n",
    "                    safe {\n",
    "                        id\n",
    "                        balance {\n",
    "                        wxHoprBalance\n",
    "                        }\n",
    "                    }\n",
    "                    }\n",
    "                }\n",
    "            }\n",
    "        \"\"\"\n",
    "\n",
    "    data = {\n",
    "        \"query\": query,\n",
    "        \"variables\": {\n",
    "            \"first\": 1000,\n",
    "            \"skip\": 0,\n",
    "        },\n",
    "    }\n",
    "    subgraph_dict = {}\n",
    "    more_content_available = True\n",
    "    pagination_skip_size = 1000\n",
    "\n",
    "    while more_content_available:\n",
    "        try:\n",
    "            response = requests.post(subgraph_url, json=data)\n",
    "\n",
    "            if response.status_code != 200:\n",
    "                print(f\"Received status code {response.status_code} when querying The Graph API\")\n",
    "                break\n",
    "\n",
    "            json_data = response.json()\n",
    "\n",
    "        except requests.exceptions.RequestException:\n",
    "            print(\"An error occurred while sending the request to subgraph endpoint\")\n",
    "            return {}\n",
    "        except ValueError:\n",
    "            print(\"An error occurred while parsing the response as JSON from subgraph endpoint\")\n",
    "            return {}\n",
    "        except Exception:\n",
    "            print(\"An unexpected error occurred\")\n",
    "            return {}\n",
    "\n",
    "        safes = json_data[\"data\"][\"safes\"]\n",
    "        for safe in safes:\n",
    "            for node in safe[\"registeredNodesInNetworkRegistry\"]:\n",
    "                node_address = node[\"node\"][\"id\"]\n",
    "                wxHoprBalance = node[\"safe\"][\"balance\"][\"wxHoprBalance\"]\n",
    "                safe_address = node[\"safe\"][\"id\"]\n",
    "                subgraph_dict[node_address] = {\n",
    "                    \"safe_address\": safe_address,\n",
    "                    \"wxHOPR_balance\": wxHoprBalance,\n",
    "                }\n",
    "\n",
    "        # Increment skip for the next iteration\n",
    "        data[\"variables\"][\"skip\"] += pagination_skip_size\n",
    "        more_content_available = len(safes) == pagination_skip_size\n",
    "\n",
    "    return subgraph_dict\n",
    "\n",
    "def get_unique_nodeAddress_peerId_aggbalance_links(api_host, api_key):\n",
    "    \"\"\"\n",
    "    Returns a dict containing all unique source_peerId-source_address links.\n",
    "    \"\"\"\n",
    "    channel_url = \"http://{}:3001/api/v3/channels/?includingClosed=false&fullTopology=true\".format(api_host)\n",
    "    headers = {'X-Auth-Token': api_key}\n",
    "    response = requests.request(\"GET\", channel_url, headers=headers)\n",
    "\n",
    "    if response.status_code != 200:\n",
    "        print(\"Could not fetch channel information. Status code: {}\".format(response.status_code))\n",
    "        return {}\n",
    "    \n",
    "    response = response.json()\n",
    "\n",
    "    if 'all' not in response:\n",
    "            print(\"Response does not contain `all`\")\n",
    "            return {}\n",
    "\n",
    "    peerid_address_aggbalance_links = {}\n",
    "    for item in response[\"all\"]:\n",
    "        if \"sourcePeerId\" not in item or \"sourceAddress\" not in item:\n",
    "            print(\"Response does not contain `source_peerid` or `source_address`\")\n",
    "            continue\n",
    "\n",
    "        if \"status\" not in item:\n",
    "            print(\"Response does not contain `status`\")\n",
    "            continue\n",
    "\n",
    "        source_peer_id = item[\"sourcePeerId\"]\n",
    "        source_address = item[\"sourceAddress\"]\n",
    "        balance = int(item[\"balance\"]) / 1e18\n",
    "\n",
    "        if item[\"status\"] != \"Open\":\n",
    "            # Other Statuses: \"Waiting for commitment\", \"Closed\", \"Pending to close\"\n",
    "            # Ensures that nodes must have at least 1 open channel in to receive ct\n",
    "            continue\n",
    "\n",
    "        if source_peer_id not in peerid_address_aggbalance_links:\n",
    "            peerid_address_aggbalance_links[source_peer_id] = {\n",
    "                \"source_node_address\": source_address,\n",
    "                \"channels_balance\": balance,\n",
    "            }\n",
    "\n",
    "        else:\n",
    "            peerid_address_aggbalance_links[source_peer_id][\n",
    "                \"channels_balance\"\n",
    "            ] += balance\n",
    "\n",
    "    return peerid_address_aggbalance_links"
   ]
  },
  {
   "cell_type": "code",
   "execution_count": 4,
   "metadata": {},
   "outputs": [
    {
     "name": "stdout",
     "output_type": "stream",
     "text": [
      "359\n",
      "0xcdd7117148b6f2975815dd39d99bb9ed4553842b: {'safe_address': '0x00133125ccdf4ea1231a47e073c616f358b2d5a8', 'wxHOPR_balance': '25468.755553838447062483'}\n",
      "0x2168fcd793a3967fa4bdd66f534c4fc811124439: {'safe_address': '0x01f1d2f347ea987b5cf3ed383146feda5265f38a', 'wxHOPR_balance': '46767.387878358780883268'}\n",
      "0x9261303fe593ca3ced719213a9adfcd13162c9cf: {'safe_address': '0x039e399bf0409e06e0d4dabe6b8589d8f97c0c86', 'wxHOPR_balance': '10868.968319140893649787'}\n",
      "0xed04f9fbf9160793fff7532df3860c70862bff4e: {'safe_address': '0x0420bd44fe87a855a11c9fd42b3f42203b03dec9', 'wxHOPR_balance': '30097.007400087394399044'}\n",
      "0xfcc30ccecf890362d66194659f4850acbe84b08b: {'safe_address': '0x042ddd9d9b99ed1a08eb5c5a3feae5e7a1732e82', 'wxHOPR_balance': '35419'}\n",
      "0xf3e7672a909fd8c113fc5c53dda1f38f79d7a184: {'safe_address': '0x04b21235a04d7468bdd79de8a68341b7be0a71fa', 'wxHOPR_balance': '61208.146712387571348229'}\n",
      "0x06e7df53f76d5a0d3114e1ab6332a66b4e36cd86: {'safe_address': '0x04d516f717ac1e45af3cd9694c37be10470cfb28', 'wxHOPR_balance': '0'}\n",
      "0xb7dde63eb9d91f0b6dc70f8d8ffe0f1187d3b3e1: {'safe_address': '0x05481f2df974592b30010ace07d2ab037e921f42', 'wxHOPR_balance': '0.5'}\n",
      "0x23173cf8fd8ca828005772a301f603cd1ee5cf5b: {'safe_address': '0x0641ae7af055d00dd2b3b07a379cb68b256f575b', 'wxHOPR_balance': '10453.87'}\n",
      "0x6ac2a689277e3cefeeff53c0752166956e6abac4: {'safe_address': '0x068c7bf74120c5115a8c4cb6b894c22f68164c31', 'wxHOPR_balance': '44119.985144706346987514'}\n"
     ]
    }
   ],
   "source": [
    "subgraph_data = get_subgraph_data()\n",
    "print(len(subgraph_data))\n",
    "\n",
    "print_size = 10 \n",
    "\n",
    "for key, value in list(subgraph_data.items())[:print_size]:\n",
    "    print(f\"{key}: {value}\")\n"
   ]
  },
  {
   "cell_type": "markdown",
   "metadata": {},
   "source": [
    "### Load message statistics "
   ]
  },
  {
   "cell_type": "code",
   "execution_count": 6,
   "metadata": {},
   "outputs": [
    {
     "name": "stdout",
     "output_type": "stream",
     "text": [
      "229\n"
     ]
    }
   ],
   "source": [
    "message_statistics = pd.read_csv('message_statistics_new.csv', low_memory=False)\n",
    "\n",
    "print(len(message_statistics))\n"
   ]
  },
  {
   "cell_type": "code",
   "execution_count": 5,
   "metadata": {},
   "outputs": [
    {
     "name": "stdout",
     "output_type": "stream",
     "text": [
      "246\n",
      "12D3KooWAAZ3WnaWMuSQnQSFYnwx7g6W725DYmDY1QASZK1nni5B: {'source_node_address': '0xfa73af5609d354acd0f6e51f77c04d228c370813', 'channels_balance': 460.0}\n",
      "12D3KooWKn3bLWMymSMznYt3YRrK8cwmYytEzwM1HoDgqkLcmeSu: {'source_node_address': '0x8de95cdc3291152381f24226422ed9c08beec146', 'channels_balance': 3122.0}\n",
      "12D3KooWNJyWUuu9M9RNU8zTMyqCA8K1GqJwv8tjHsc2oYsJJajD: {'source_node_address': '0x9925b9846e6e289e1c7f8a0554bf6900757491ec', 'channels_balance': 140.0}\n",
      "12D3KooWH9rfYNKMkNncYJxS7BH41ThPZUYe3FNkbfmJAa4n5r3x: {'source_node_address': '0x5a5bf3d3ce59cd304f198b86c1a78adfadf31f83', 'channels_balance': 11484.0}\n",
      "12D3KooWMbvWixXDhbqRiAEcu6YNgenGnj9X6NmWn3fdVTHv9obT: {'source_node_address': '0x4eca92a298c445ebe7af202273030abd36011b44', 'channels_balance': 3.0}\n"
     ]
    }
   ],
   "source": [
    "topology_data = get_unique_nodeAddress_peerId_aggbalance_links(api_host, api_key)\n",
    "\n",
    "print(len(topology_data))\n",
    "\n",
    "print_size = 5 \n",
    "\n",
    "for key, value in list(topology_data.items())[:print_size]:\n",
    "    print(f\"{key}: {value}\")"
   ]
  },
  {
   "cell_type": "code",
   "execution_count": 7,
   "metadata": {},
   "outputs": [],
   "source": [
    "def merge_topology_subgraph(topology_dict: dict, subgraph_dict: dict):\n",
    "    \"\"\"\n",
    "    Merge metrics and subgraph data with the unique peer IDs, addresses,\n",
    "    balance links.\n",
    "    :param: topology_dict: A dict mapping peer IDs to node addresses.\n",
    "    :param: subgraph_dict: A dict containing subgraph data with safe address as the key.\n",
    "    :returns: A dict with peer ID as the key and the merged information.\n",
    "    \"\"\"\n",
    "    merged_result = {}\n",
    "\n",
    "    # Merge based on peer ID with the channel topology as the baseline\n",
    "    for peer_id, data in topology_dict.items():\n",
    "        seen_in_subgraph = False\n",
    "\n",
    "        source_node_address = data[\"source_node_address\"]\n",
    "        if source_node_address in subgraph_dict:\n",
    "            subgraph_data = subgraph_dict[source_node_address]\n",
    "            data[\"safe_address\"] = subgraph_data[\"safe_address\"]\n",
    "            data[\"safe_balance\"] = float(subgraph_data[\"wxHOPR_balance\"])\n",
    "            data[\"total_balance\"] = data[\"channels_balance\"] + data[\"safe_balance\"]\n",
    "\n",
    "            seen_in_subgraph = True\n",
    "            # print(f\"Source node address for {peer_id} found in subgraph\")\n",
    "\n",
    "        if seen_in_subgraph:\n",
    "            merged_result[peer_id] = data\n",
    "\n",
    "    return merged_result"
   ]
  },
  {
   "cell_type": "code",
   "execution_count": 8,
   "metadata": {},
   "outputs": [
    {
     "name": "stdout",
     "output_type": "stream",
     "text": [
      "246\n",
      "12D3KooWAAZ3WnaWMuSQnQSFYnwx7g6W725DYmDY1QASZK1nni5B: {'source_node_address': '0xfa73af5609d354acd0f6e51f77c04d228c370813', 'channels_balance': 460.0, 'safe_address': '0x8832376a388cfcb58dab0cce249f65b86041e4bc', 'safe_balance': 9668.21884352485, 'total_balance': 10128.21884352485}\n",
      "12D3KooWKn3bLWMymSMznYt3YRrK8cwmYytEzwM1HoDgqkLcmeSu: {'source_node_address': '0x8de95cdc3291152381f24226422ed9c08beec146', 'channels_balance': 3122.0, 'safe_address': '0x4d219619fa660c02236c89e5de46843bdeb41233', 'safe_balance': 86339.0, 'total_balance': 89461.0}\n",
      "12D3KooWNJyWUuu9M9RNU8zTMyqCA8K1GqJwv8tjHsc2oYsJJajD: {'source_node_address': '0x9925b9846e6e289e1c7f8a0554bf6900757491ec', 'channels_balance': 140.0, 'safe_address': '0x5ce3ca7ae22be88a960e0847845d9e13e8b5f23d', 'safe_balance': 75445.0, 'total_balance': 75585.0}\n",
      "12D3KooWH9rfYNKMkNncYJxS7BH41ThPZUYe3FNkbfmJAa4n5r3x: {'source_node_address': '0x5a5bf3d3ce59cd304f198b86c1a78adfadf31f83', 'channels_balance': 11484.0, 'safe_address': '0xdf9be8bdb5ae4a130e861e5158c95667e7b2c0cb', 'safe_balance': 9426.0, 'total_balance': 20910.0}\n",
      "12D3KooWMbvWixXDhbqRiAEcu6YNgenGnj9X6NmWn3fdVTHv9obT: {'source_node_address': '0x4eca92a298c445ebe7af202273030abd36011b44', 'channels_balance': 3.0, 'safe_address': '0xc6497a9782141a14040810e63d3dc813439d3d74', 'safe_balance': 77533.0, 'total_balance': 77536.0}\n"
     ]
    }
   ],
   "source": [
    "merged_data = merge_topology_subgraph(topology_data, subgraph_data)\n",
    "print(len(merged_data))\n",
    "\n",
    "print_size = 5 \n",
    "\n",
    "for key, value in list(merged_data.items())[:print_size]:\n",
    "    print(f\"{key}: {value}\")"
   ]
  },
  {
   "cell_type": "markdown",
   "metadata": {},
   "source": [
    "### Merge message statistics and the merged subgraph topology data"
   ]
  },
  {
   "cell_type": "code",
   "execution_count": 9,
   "metadata": {},
   "outputs": [
    {
     "data": {
      "text/html": [
       "<div>\n",
       "<style scoped>\n",
       "    .dataframe tbody tr th:only-of-type {\n",
       "        vertical-align: middle;\n",
       "    }\n",
       "\n",
       "    .dataframe tbody tr th {\n",
       "        vertical-align: top;\n",
       "    }\n",
       "\n",
       "    .dataframe thead th {\n",
       "        text-align: right;\n",
       "    }\n",
       "</style>\n",
       "<table border=\"1\" class=\"dataframe\">\n",
       "  <thead>\n",
       "    <tr style=\"text-align: right;\">\n",
       "      <th></th>\n",
       "      <th>peer_id</th>\n",
       "      <th>source_node_address</th>\n",
       "      <th>channels_balance</th>\n",
       "      <th>safe_address</th>\n",
       "      <th>safe_balance</th>\n",
       "      <th>total_balance</th>\n",
       "    </tr>\n",
       "  </thead>\n",
       "  <tbody>\n",
       "    <tr>\n",
       "      <th>0</th>\n",
       "      <td>12D3KooWAAZ3WnaWMuSQnQSFYnwx7g6W725DYmDY1QASZK...</td>\n",
       "      <td>0xfa73af5609d354acd0f6e51f77c04d228c370813</td>\n",
       "      <td>460.0</td>\n",
       "      <td>0x8832376a388cfcb58dab0cce249f65b86041e4bc</td>\n",
       "      <td>9668.218844</td>\n",
       "      <td>10128.218844</td>\n",
       "    </tr>\n",
       "    <tr>\n",
       "      <th>1</th>\n",
       "      <td>12D3KooWKn3bLWMymSMznYt3YRrK8cwmYytEzwM1HoDgqk...</td>\n",
       "      <td>0x8de95cdc3291152381f24226422ed9c08beec146</td>\n",
       "      <td>3122.0</td>\n",
       "      <td>0x4d219619fa660c02236c89e5de46843bdeb41233</td>\n",
       "      <td>86339.000000</td>\n",
       "      <td>89461.000000</td>\n",
       "    </tr>\n",
       "    <tr>\n",
       "      <th>2</th>\n",
       "      <td>12D3KooWNJyWUuu9M9RNU8zTMyqCA8K1GqJwv8tjHsc2oY...</td>\n",
       "      <td>0x9925b9846e6e289e1c7f8a0554bf6900757491ec</td>\n",
       "      <td>140.0</td>\n",
       "      <td>0x5ce3ca7ae22be88a960e0847845d9e13e8b5f23d</td>\n",
       "      <td>75445.000000</td>\n",
       "      <td>75585.000000</td>\n",
       "    </tr>\n",
       "    <tr>\n",
       "      <th>3</th>\n",
       "      <td>12D3KooWH9rfYNKMkNncYJxS7BH41ThPZUYe3FNkbfmJAa...</td>\n",
       "      <td>0x5a5bf3d3ce59cd304f198b86c1a78adfadf31f83</td>\n",
       "      <td>11484.0</td>\n",
       "      <td>0xdf9be8bdb5ae4a130e861e5158c95667e7b2c0cb</td>\n",
       "      <td>9426.000000</td>\n",
       "      <td>20910.000000</td>\n",
       "    </tr>\n",
       "    <tr>\n",
       "      <th>4</th>\n",
       "      <td>12D3KooWMbvWixXDhbqRiAEcu6YNgenGnj9X6NmWn3fdVT...</td>\n",
       "      <td>0x4eca92a298c445ebe7af202273030abd36011b44</td>\n",
       "      <td>3.0</td>\n",
       "      <td>0xc6497a9782141a14040810e63d3dc813439d3d74</td>\n",
       "      <td>77533.000000</td>\n",
       "      <td>77536.000000</td>\n",
       "    </tr>\n",
       "    <tr>\n",
       "      <th>...</th>\n",
       "      <td>...</td>\n",
       "      <td>...</td>\n",
       "      <td>...</td>\n",
       "      <td>...</td>\n",
       "      <td>...</td>\n",
       "      <td>...</td>\n",
       "    </tr>\n",
       "    <tr>\n",
       "      <th>241</th>\n",
       "      <td>12D3KooWPY4SJ7Y54EDbZhLeaRvCzo4QLgKwY9hwcmLKuJ...</td>\n",
       "      <td>0xe9e76aa349e3ca33d37cd9713a64608cd029aa97</td>\n",
       "      <td>24.0</td>\n",
       "      <td>0xc4ad115c1f71b79563d27bfdc4208e56f0c0aec3</td>\n",
       "      <td>10111.000000</td>\n",
       "      <td>10135.000000</td>\n",
       "    </tr>\n",
       "    <tr>\n",
       "      <th>242</th>\n",
       "      <td>12D3KooWNrVRJbP7aqacxEt6DZjzoz7SRzawRvY2gjZTnH...</td>\n",
       "      <td>0x4663c9beee1c95205dc79a0d7c019753bc9e4759</td>\n",
       "      <td>10.0</td>\n",
       "      <td>0x268195238449e5521b56a7f34b951e01416c152d</td>\n",
       "      <td>10112.000000</td>\n",
       "      <td>10122.000000</td>\n",
       "    </tr>\n",
       "    <tr>\n",
       "      <th>243</th>\n",
       "      <td>12D3KooWNeRYMmbBkiv7fvNS9Eh1NFoEQHJTtabEZGf7Mt...</td>\n",
       "      <td>0x0b719bc3ce484321b7ded5fe5a6523ca400a815b</td>\n",
       "      <td>1.0</td>\n",
       "      <td>0x3510d09b5b718220bf7df02fe374373744aa611a</td>\n",
       "      <td>10116.000000</td>\n",
       "      <td>10117.000000</td>\n",
       "    </tr>\n",
       "    <tr>\n",
       "      <th>244</th>\n",
       "      <td>12D3KooWHyJe3bNyT64ymbCUuqniitmbhKUEZfMum8eZhy...</td>\n",
       "      <td>0x4ca9d39fc1242b806c765c742d601eb32f691f5b</td>\n",
       "      <td>1.0</td>\n",
       "      <td>0xd73716d02202ab88418a7040861365ce35208293</td>\n",
       "      <td>10106.000000</td>\n",
       "      <td>10107.000000</td>\n",
       "    </tr>\n",
       "    <tr>\n",
       "      <th>245</th>\n",
       "      <td>12D3KooWNsPXt4NEzyrURUdozypRj4XySW195JLjJHJCPZ...</td>\n",
       "      <td>0x458996b0267c229999973c73bf313cdb285be361</td>\n",
       "      <td>1.0</td>\n",
       "      <td>0xd6272e61d2ffa2041831c1b17d28bf801a346b18</td>\n",
       "      <td>57294.000000</td>\n",
       "      <td>57295.000000</td>\n",
       "    </tr>\n",
       "  </tbody>\n",
       "</table>\n",
       "<p>246 rows × 6 columns</p>\n",
       "</div>"
      ],
      "text/plain": [
       "                                               peer_id  \\\n",
       "0    12D3KooWAAZ3WnaWMuSQnQSFYnwx7g6W725DYmDY1QASZK...   \n",
       "1    12D3KooWKn3bLWMymSMznYt3YRrK8cwmYytEzwM1HoDgqk...   \n",
       "2    12D3KooWNJyWUuu9M9RNU8zTMyqCA8K1GqJwv8tjHsc2oY...   \n",
       "3    12D3KooWH9rfYNKMkNncYJxS7BH41ThPZUYe3FNkbfmJAa...   \n",
       "4    12D3KooWMbvWixXDhbqRiAEcu6YNgenGnj9X6NmWn3fdVT...   \n",
       "..                                                 ...   \n",
       "241  12D3KooWPY4SJ7Y54EDbZhLeaRvCzo4QLgKwY9hwcmLKuJ...   \n",
       "242  12D3KooWNrVRJbP7aqacxEt6DZjzoz7SRzawRvY2gjZTnH...   \n",
       "243  12D3KooWNeRYMmbBkiv7fvNS9Eh1NFoEQHJTtabEZGf7Mt...   \n",
       "244  12D3KooWHyJe3bNyT64ymbCUuqniitmbhKUEZfMum8eZhy...   \n",
       "245  12D3KooWNsPXt4NEzyrURUdozypRj4XySW195JLjJHJCPZ...   \n",
       "\n",
       "                            source_node_address  channels_balance  \\\n",
       "0    0xfa73af5609d354acd0f6e51f77c04d228c370813             460.0   \n",
       "1    0x8de95cdc3291152381f24226422ed9c08beec146            3122.0   \n",
       "2    0x9925b9846e6e289e1c7f8a0554bf6900757491ec             140.0   \n",
       "3    0x5a5bf3d3ce59cd304f198b86c1a78adfadf31f83           11484.0   \n",
       "4    0x4eca92a298c445ebe7af202273030abd36011b44               3.0   \n",
       "..                                          ...               ...   \n",
       "241  0xe9e76aa349e3ca33d37cd9713a64608cd029aa97              24.0   \n",
       "242  0x4663c9beee1c95205dc79a0d7c019753bc9e4759              10.0   \n",
       "243  0x0b719bc3ce484321b7ded5fe5a6523ca400a815b               1.0   \n",
       "244  0x4ca9d39fc1242b806c765c742d601eb32f691f5b               1.0   \n",
       "245  0x458996b0267c229999973c73bf313cdb285be361               1.0   \n",
       "\n",
       "                                   safe_address  safe_balance  total_balance  \n",
       "0    0x8832376a388cfcb58dab0cce249f65b86041e4bc   9668.218844   10128.218844  \n",
       "1    0x4d219619fa660c02236c89e5de46843bdeb41233  86339.000000   89461.000000  \n",
       "2    0x5ce3ca7ae22be88a960e0847845d9e13e8b5f23d  75445.000000   75585.000000  \n",
       "3    0xdf9be8bdb5ae4a130e861e5158c95667e7b2c0cb   9426.000000   20910.000000  \n",
       "4    0xc6497a9782141a14040810e63d3dc813439d3d74  77533.000000   77536.000000  \n",
       "..                                          ...           ...            ...  \n",
       "241  0xc4ad115c1f71b79563d27bfdc4208e56f0c0aec3  10111.000000   10135.000000  \n",
       "242  0x268195238449e5521b56a7f34b951e01416c152d  10112.000000   10122.000000  \n",
       "243  0x3510d09b5b718220bf7df02fe374373744aa611a  10116.000000   10117.000000  \n",
       "244  0xd73716d02202ab88418a7040861365ce35208293  10106.000000   10107.000000  \n",
       "245  0xd6272e61d2ffa2041831c1b17d28bf801a346b18  57294.000000   57295.000000  \n",
       "\n",
       "[246 rows x 6 columns]"
      ]
     },
     "metadata": {},
     "output_type": "display_data"
    }
   ],
   "source": [
    "# Create a DataFrame from the dictionary\n",
    "df_merged_data = pd.DataFrame.from_dict(merged_data, orient='index')\n",
    "\n",
    "# Reset the index\n",
    "df_merged_data.reset_index(inplace=True)\n",
    "\n",
    "# Rename the columns\n",
    "df_merged_data.columns = ['peer_id', 'source_node_address', 'channels_balance', 'safe_address', 'safe_balance', 'total_balance']\n",
    "\n",
    "# Print the DataFrame\n",
    "display(df_merged_data)"
   ]
  },
  {
   "cell_type": "code",
   "execution_count": 10,
   "metadata": {},
   "outputs": [
    {
     "name": "stdout",
     "output_type": "stream",
     "text": [
      "Index(['peer_id', 'total_expected', 'total_relayed', 'total_issued',\n",
      "       'source_node_address', 'channels_balance', 'safe_address',\n",
      "       'safe_balance', 'total_balance'],\n",
      "      dtype='object')\n",
      "229\n"
     ]
    }
   ],
   "source": [
    "elidgible_peers_for_airdrop = message_statistics.merge(df_merged_data, how='left', left_on='peer_id'\n",
    "                                                    , right_on='peer_id')\n",
    "\n",
    "\n",
    "print(elidgible_peers_for_airdrop.columns)\n",
    "print(len(elidgible_peers_for_airdrop))\n",
    "\n"
   ]
  },
  {
   "cell_type": "code",
   "execution_count": 11,
   "metadata": {},
   "outputs": [
    {
     "name": "stdout",
     "output_type": "stream",
     "text": [
      "224\n"
     ]
    }
   ],
   "source": [
    "elidgible_peers_for_airdrop_01 = elidgible_peers_for_airdrop[~elidgible_peers_for_airdrop['source_node_address'].isnull()] \n",
    "print(len(elidgible_peers_for_airdrop_01))"
   ]
  },
  {
   "cell_type": "code",
   "execution_count": 12,
   "metadata": {},
   "outputs": [],
   "source": [
    "elidgible_peers_for_airdrop_01.to_excel('elidgible_peers_for_airdrop_second.xlsx', index=False)"
   ]
  },
  {
   "cell_type": "markdown",
   "metadata": {},
   "source": [
    "### Substract first from second list"
   ]
  },
  {
   "cell_type": "code",
   "execution_count": 23,
   "metadata": {},
   "outputs": [
    {
     "name": "stdout",
     "output_type": "stream",
     "text": [
      "200 224\n"
     ]
    }
   ],
   "source": [
    "elidgible_peers_1 = pd.read_excel('elidgible_peers_for_airdrop_first_dist.xlsx')\n",
    "elidgible_peers_2 = pd.read_excel('elidgible_peers_for_airdrop_second.xlsx')\n",
    "\n",
    "print(len(elidgible_peers_1), len(elidgible_peers_2))"
   ]
  },
  {
   "cell_type": "code",
   "execution_count": 34,
   "metadata": {},
   "outputs": [
    {
     "name": "stdout",
     "output_type": "stream",
     "text": [
      "Index(['peer_id', 'total_expected', 'total_relayed', 'total_issued',\n",
      "       'source_node_address', 'channels_balance', 'safe_address',\n",
      "       'safe_balance', 'total_balance'],\n",
      "      dtype='object')\n"
     ]
    }
   ],
   "source": [
    "print(elidgible_peers_1.columns)"
   ]
  },
  {
   "cell_type": "code",
   "execution_count": 35,
   "metadata": {},
   "outputs": [
    {
     "name": "stdout",
     "output_type": "stream",
     "text": [
      "200\n",
      "224\n"
     ]
    }
   ],
   "source": [
    "elidgible_peers_1_1 = elidgible_peers_1.drop_duplicates(subset='peer_id')\n",
    "print(len(elidgible_peers_1_1))\n",
    "\n",
    "elidgible_peers_2_1 = elidgible_peers_2.drop_duplicates(subset='peer_id')\n",
    "print(len(elidgible_peers_2_1))\n"
   ]
  },
  {
   "cell_type": "code",
   "execution_count": 36,
   "metadata": {},
   "outputs": [
    {
     "name": "stdout",
     "output_type": "stream",
     "text": [
      "224\n"
     ]
    }
   ],
   "source": [
    "# Merge the two DataFrames on 'peer_id' using an outer join\n",
    "merged_df = pd.merge(elidgible_peers_2, elidgible_peers_1, on='source_node_address', how='left', suffixes=('_1', '_2'))\n",
    "print(len(merged_df))"
   ]
  },
  {
   "cell_type": "code",
   "execution_count": 38,
   "metadata": {},
   "outputs": [
    {
     "name": "stdout",
     "output_type": "stream",
     "text": [
      "                            source_node_address  total_expected_diff\n",
      "0    0x442aae8bb83170640ad6370f090b5b9a80533cbc                 66.0\n",
      "1    0xbbfbebe1bd63008e4ddd20b6a6ee5890e6f8bdb8                 45.0\n",
      "2    0x29831a99179732a7210bd02d39f38d9052d59ddb                162.0\n",
      "3    0xfa73af5609d354acd0f6e51f77c04d228c370813                 45.0\n",
      "4    0x67f3d385a85adb61170a30dac8d70bb575db93bf                 48.0\n",
      "..                                          ...                  ...\n",
      "219  0xc4779033fad0c5f1a97c0b2d2fd3c0529548c6b2                 45.0\n",
      "220  0xcb055aa39957bde53da6c0617ce9dadfc4b15a6d                 48.0\n",
      "221  0x3705378f4133eee4e5c19d285afe92794d95f220                  NaN\n",
      "222  0x31841807f7f809048b81e1b6813d4d930489e12c                227.0\n",
      "223  0x06eb8e8fb1424cae7aac09ee3412e6b4d4c88c59                 11.0\n",
      "\n",
      "[224 rows x 2 columns] 224\n"
     ]
    }
   ],
   "source": [
    "# Calculate the difference of 'total_expected' columns\n",
    "merged_df['total_expected_diff'] = merged_df['total_expected_1'] - merged_df['total_expected_2']\n",
    "\n",
    "# Select the columns you need in the final result (including 'peer_id' and 'total_expected_diff')\n",
    "result = merged_df[['source_node_address', 'total_expected_diff']]\n",
    "\n",
    "# Print or use the 'result' DataFrame\n",
    "print(result, len(result))"
   ]
  },
  {
   "cell_type": "code",
   "execution_count": 39,
   "metadata": {},
   "outputs": [],
   "source": [
    "result.to_excel('airdrop_02.xlsx', index=False)"
   ]
  }
 ],
 "metadata": {
  "kernelspec": {
   "display_name": "analytics",
   "language": "python",
   "name": "python3"
  },
  "language_info": {
   "codemirror_mode": {
    "name": "ipython",
    "version": 3
   },
   "file_extension": ".py",
   "mimetype": "text/x-python",
   "name": "python",
   "nbconvert_exporter": "python",
   "pygments_lexer": "ipython3",
   "version": "3.9.10"
  },
  "orig_nbformat": 4
 },
 "nbformat": 4,
 "nbformat_minor": 2
}
